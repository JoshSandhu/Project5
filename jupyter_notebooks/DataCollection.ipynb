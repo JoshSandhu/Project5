{
 "cells": [
  {
   "cell_type": "code",
   "execution_count": 12,
   "metadata": {},
   "outputs": [],
   "source": [
    "import os\n",
    "import numpy"
   ]
  },
  {
   "cell_type": "markdown",
   "metadata": {},
   "source": [
    "## Change the Workspace"
   ]
  },
  {
   "cell_type": "code",
   "execution_count": 13,
   "metadata": {},
   "outputs": [
    {
     "data": {
      "text/plain": [
       "'/workspace/Project5'"
      ]
     },
     "execution_count": 13,
     "metadata": {},
     "output_type": "execute_result"
    }
   ],
   "source": [
    "current_dir = os.getcwd()\n",
    "current_dir"
   ]
  },
  {
   "cell_type": "code",
   "execution_count": 14,
   "metadata": {},
   "outputs": [
    {
     "data": {
      "text/plain": [
       "'/workspace/Project5'"
      ]
     },
     "execution_count": 14,
     "metadata": {},
     "output_type": "execute_result"
    }
   ],
   "source": [
    "os.chdir('/workspace/Project5/')\n",
    "current_dir = os.getcwd()\n",
    "current_dir"
   ]
  },
  {
   "cell_type": "markdown",
   "metadata": {},
   "source": [
    "## Install Kaggle"
   ]
  },
  {
   "cell_type": "code",
   "execution_count": 15,
   "metadata": {},
   "outputs": [
    {
     "name": "stdout",
     "output_type": "stream",
     "text": [
      "Requirement already satisfied: kaggle in /workspace/.pip-modules/lib/python3.8/site-packages (1.5.12)\n",
      "Requirement already satisfied: certifi in /home/gitpod/.pyenv/versions/3.8.12/lib/python3.8/site-packages (from kaggle) (2022.9.24)\n",
      "Requirement already satisfied: urllib3 in /home/gitpod/.pyenv/versions/3.8.12/lib/python3.8/site-packages (from kaggle) (1.26.12)\n",
      "Requirement already satisfied: six>=1.10 in /workspace/.pip-modules/lib/python3.8/site-packages (from kaggle) (1.15.0)\n",
      "Requirement already satisfied: python-dateutil in /home/gitpod/.pyenv/versions/3.8.12/lib/python3.8/site-packages (from kaggle) (2.8.2)\n",
      "Requirement already satisfied: python-slugify in /workspace/.pip-modules/lib/python3.8/site-packages (from kaggle) (6.1.2)\n",
      "Requirement already satisfied: requests in /home/gitpod/.pyenv/versions/3.8.12/lib/python3.8/site-packages (from kaggle) (2.28.1)\n",
      "Requirement already satisfied: tqdm in /workspace/.pip-modules/lib/python3.8/site-packages (from kaggle) (4.64.1)\n",
      "Requirement already satisfied: text-unidecode>=1.3 in /workspace/.pip-modules/lib/python3.8/site-packages (from python-slugify->kaggle) (1.3)\n",
      "Requirement already satisfied: charset-normalizer<3,>=2 in /home/gitpod/.pyenv/versions/3.8.12/lib/python3.8/site-packages (from requests->kaggle) (2.1.1)\n",
      "Requirement already satisfied: idna<4,>=2.5 in /home/gitpod/.pyenv/versions/3.8.12/lib/python3.8/site-packages (from requests->kaggle) (3.4)\n"
     ]
    }
   ],
   "source": [
    "!pip install kaggle"
   ]
  },
  {
   "cell_type": "markdown",
   "metadata": {},
   "source": [
    "### Kaggle config"
   ]
  },
  {
   "cell_type": "code",
   "execution_count": 16,
   "metadata": {},
   "outputs": [],
   "source": [
    "os.environ['KAGGLE_CONFIG_DIR'] = os.getcwd()\n",
    "!chmod 600 kaggle.json"
   ]
  },
  {
   "cell_type": "code",
   "execution_count": 17,
   "metadata": {},
   "outputs": [
    {
     "name": "stdout",
     "output_type": "stream",
     "text": [
      "Downloading cherry-leaves.zip to inputs/cherry_leaves_dataset\n",
      " 33%|████████████▊                          | 18.0M/55.0M [00:00<00:00, 187MB/s]\n",
      "100%|███████████████████████████████████████| 55.0M/55.0M [00:00<00:00, 290MB/s]\n"
     ]
    }
   ],
   "source": [
    "KaggleDatasetPath = \"codeinstitute/cherry-leaves\"\n",
    "DestinationFolder = \"inputs/cherry_leaves_dataset\"\n",
    "! kaggle datasets download -d {KaggleDatasetPath} -p {DestinationFolder}"
   ]
  },
  {
   "cell_type": "code",
   "execution_count": 18,
   "metadata": {},
   "outputs": [
    {
     "name": "stdout",
     "output_type": "stream",
     "text": [
      "Archive:  inputs/cherry_leaves_dataset/cherry-leaves.zip\n",
      "replace inputs/cherry_leaves_dataset/cherry-leaves/healthy/0008f3d3-2f85-4973-be9a-1b520b8b59fc___JR_HL 4092.JPG? [y]es, [n]o, [A]ll, [N]one, [r]ename: "
     ]
    }
   ],
   "source": [
    "! unzip {DestinationFolder}/*.zip -d {DestinationFolder} \\\n",
    "    && rm {DestinationFolder}/*zip"
   ]
  },
  {
   "cell_type": "markdown",
   "metadata": {},
   "source": [
    "### Data Cleaning"
   ]
  },
  {
   "cell_type": "code",
   "execution_count": null,
   "metadata": {},
   "outputs": [],
   "source": [
    " def remove_non_image_file(my_data_dir):\n",
    "     image_extension = ('.png', '.jpg', '.jpeg')\n",
    "     folders = os.listdir(my_data_dir) \n",
    "     for folder in folders:\n",
    "         files = os.listdir(my_data_dir + '/' + folder)\n",
    "        \n",
    "            #print(files)\n",
    "         i = []\n",
    "         j = []\n",
    "         for given_file in files:\n",
    "             if not given_file.lower().endswith(image_extension):\n",
    "                 file_location = my_data_dir + '/' + folder + '/' + given_file\n",
    "                 os.remove(file_location) # remove non image file\n",
    "                 i.append(1)\n",
    "             else:\n",
    "                 j.append(1)\n",
    "                 pass\n",
    "         print(f\"Folder: {folder} - has image file\",len(j))\n",
    "         print(f\"Folder: {folder} - has non-image file\",len(i))"
   ]
  },
  {
   "cell_type": "code",
   "execution_count": null,
   "metadata": {},
   "outputs": [
    {
     "ename": "IsADirectoryError",
     "evalue": "[Errno 21] Is a directory: 'inputs/cherry_leaves_dataset/cherry-leaves/train/healthy'",
     "output_type": "error",
     "traceback": [
      "\u001b[0;31m---------------------------------------------------------------------------\u001b[0m",
      "\u001b[0;31mIsADirectoryError\u001b[0m                         Traceback (most recent call last)",
      "Cell \u001b[0;32mIn [9], line 1\u001b[0m\n\u001b[0;32m----> 1\u001b[0m \u001b[43mremove_non_image_file\u001b[49m\u001b[43m(\u001b[49m\u001b[43mmy_data_dir\u001b[49m\u001b[38;5;241;43m=\u001b[39;49m\u001b[38;5;124;43m'\u001b[39;49m\u001b[38;5;124;43minputs/cherry_leaves_dataset/cherry-leaves\u001b[39;49m\u001b[38;5;124;43m'\u001b[39;49m\u001b[43m)\u001b[49m\n",
      "Cell \u001b[0;32mIn [8], line 13\u001b[0m, in \u001b[0;36mremove_non_image_file\u001b[0;34m(my_data_dir)\u001b[0m\n\u001b[1;32m     11\u001b[0m \u001b[38;5;28;01mif\u001b[39;00m \u001b[38;5;129;01mnot\u001b[39;00m given_file\u001b[38;5;241m.\u001b[39mlower()\u001b[38;5;241m.\u001b[39mendswith(image_extension):\n\u001b[1;32m     12\u001b[0m     file_location \u001b[38;5;241m=\u001b[39m my_data_dir \u001b[38;5;241m+\u001b[39m \u001b[38;5;124m'\u001b[39m\u001b[38;5;124m/\u001b[39m\u001b[38;5;124m'\u001b[39m \u001b[38;5;241m+\u001b[39m folder \u001b[38;5;241m+\u001b[39m \u001b[38;5;124m'\u001b[39m\u001b[38;5;124m/\u001b[39m\u001b[38;5;124m'\u001b[39m \u001b[38;5;241m+\u001b[39m given_file\n\u001b[0;32m---> 13\u001b[0m     \u001b[43mos\u001b[49m\u001b[38;5;241;43m.\u001b[39;49m\u001b[43mremove\u001b[49m\u001b[43m(\u001b[49m\u001b[43mfile_location\u001b[49m\u001b[43m)\u001b[49m \u001b[38;5;66;03m# remove non image file\u001b[39;00m\n\u001b[1;32m     14\u001b[0m     i\u001b[38;5;241m.\u001b[39mappend(\u001b[38;5;241m1\u001b[39m)\n\u001b[1;32m     15\u001b[0m \u001b[38;5;28;01melse\u001b[39;00m:\n",
      "\u001b[0;31mIsADirectoryError\u001b[0m: [Errno 21] Is a directory: 'inputs/cherry_leaves_dataset/cherry-leaves/train/healthy'"
     ]
    }
   ],
   "source": [
    "remove_non_image_file(my_data_dir='inputs/cherry_leaves_dataset/cherry-leaves')"
   ]
  },
  {
   "cell_type": "code",
   "execution_count": null,
   "metadata": {},
   "outputs": [],
   "source": [
    "import os\n",
    "import shutil\n",
    "import random\n",
    "import joblib\n",
    "\n",
    "def split_train_validation_test_images(my_data_dir, train_set_ratio, validation_set_ratio, test_set_ratio):\n",
    "  \n",
    "  if train_set_ratio + validation_set_ratio + test_set_ratio != 1.0:\n",
    "    print(\"train_set_ratio + validation_set_ratio + test_set_ratio should sum 1.0\")\n",
    "    return\n",
    "\n",
    "  # gets classes labels\n",
    "  labels = os.listdir(my_data_dir) # it should only get folder name\n",
    "  if 'test' in labels:\n",
    "    pass\n",
    "  else: \n",
    "    # create train, test folders with classess labels sub-folder\n",
    "    for folder in ['train','validation','test']:\n",
    "      for label in labels:\n",
    "        os.makedirs(name=my_data_dir+ '/' + folder + '/' + label)\n",
    "\n",
    "    for label in labels:\n",
    "\n",
    "      files = os.listdir(my_data_dir + '/' + label)\n",
    "      random.shuffle(files)\n",
    "\n",
    "      train_set_files_qty = int(len(files) * train_set_ratio)\n",
    "      validation_set_files_qty = int(len(files) * validation_set_ratio)\n",
    "\n",
    "      count = 1\n",
    "      for file_name in files:\n",
    "        if count <= train_set_files_qty:\n",
    "          # move given file to train set\n",
    "          shutil.move(my_data_dir + '/' + label + '/' + file_name,\n",
    "                      my_data_dir + '/train/' + label + '/' + file_name)\n",
    "          \n",
    "\n",
    "        elif count <= (train_set_files_qty + validation_set_files_qty ):\n",
    "          # move given file to validation set\n",
    "          shutil.move(my_data_dir + '/' + label + '/' + file_name,\n",
    "                      my_data_dir + '/validation/' + label + '/' + file_name)\n",
    "\n",
    "        else:\n",
    "          # move given file to test set\n",
    "          shutil.move(my_data_dir + '/' + label + '/' + file_name,\n",
    "                  my_data_dir + '/test/' +label + '/'+ file_name)\n",
    "          \n",
    "        count += 1\n",
    "\n",
    "      os.rmdir(my_data_dir + '/' + label)"
   ]
  },
  {
   "cell_type": "code",
   "execution_count": null,
   "metadata": {},
   "outputs": [],
   "source": [
    "split_train_validation_test_images(my_data_dir = f\"inputs/cherry_leaves_dataset/cherry-leaves\",\n",
    "                        train_set_ratio = 0.7,\n",
    "                        validation_set_ratio=0.1,\n",
    "                        test_set_ratio=0.2\n",
    "                        )"
   ]
  }
 ],
 "metadata": {
  "kernelspec": {
   "display_name": "Python 3.8.12 64-bit ('3.8.12')",
   "language": "python",
   "name": "python3"
  },
  "language_info": {
   "codemirror_mode": {
    "name": "ipython",
    "version": 3
   },
   "file_extension": ".py",
   "mimetype": "text/x-python",
   "name": "python",
   "nbconvert_exporter": "python",
   "pygments_lexer": "ipython3",
   "version": "3.8.12"
  },
  "orig_nbformat": 4,
  "vscode": {
   "interpreter": {
    "hash": "8b8334dab9339717f727a1deaf837b322d7a41c20d15cc86be99a8e69ceec8ce"
   }
  }
 },
 "nbformat": 4,
 "nbformat_minor": 2
}
